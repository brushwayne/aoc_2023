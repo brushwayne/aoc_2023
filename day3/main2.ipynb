{
 "cells": [
  {
   "cell_type": "code",
   "execution_count": 4,
   "metadata": {},
   "outputs": [
    {
     "name": "stdout",
     "output_type": "stream",
     "text": [
      "531712\n"
     ]
    }
   ],
   "source": [
    "import re\n",
    "from collections import defaultdict\n",
    "\n",
    "syms = ['*', '-', '$', '#', '%', '=', '&', '@', '/', '+']\n",
    "\n",
    "d = defaultdict()\n",
    "\n",
    "with open(\"raw.txt\", \"r\") as f:\n",
    "    lines = [x.strip() for x in f.readlines()]\n",
    "\n",
    "    for index, line in enumerate(lines):\n",
    "        nums = [s for s in re.findall(r'\\b\\d+\\b', line)]\n",
    "        symbols = [i for i in line if i in syms]\n",
    "\n",
    "        pos = []\n",
    "\n",
    "        for element in nums:\n",
    "            pos.append((element, len(element), line.find(element), line.find(element) + len(element) - 1))\n",
    "\n",
    "        d[index] = {\n",
    "            \"line\": line,\n",
    "            \"nums\": nums,\n",
    "            \"symbols\": symbols,\n",
    "            \"pos\": pos\n",
    "        }\n",
    "    \n",
    "    add = 0\n",
    "\n",
    "    for index in d:\n",
    "        line = d[index][\"line\"]\n",
    "        pos = d[index][\"pos\"]\n",
    "\n",
    "        prev_line = d[index - 1][\"line\"] if index > 0 else None\n",
    "        next_line = d[index + 1][\"line\"] if index < len(lines) - 1 else None\n",
    "\n",
    "\n",
    "        for _ in pos:\n",
    "            num, length, s, e = _\n",
    "\n",
    "            if s != 0:\n",
    "                s -= 1\n",
    "            \n",
    "            if e != len(line) - 1:\n",
    "                e += 1\n",
    "\n",
    "            if prev_line != None:\n",
    "                if any(i in prev_line[s:e+1] for i in syms):\n",
    "                    add += int(num)\n",
    "\n",
    "            if line[s] in syms or line[e] in syms:\n",
    "                add += int(num)\n",
    "\n",
    "            if next_line != None:\n",
    "                if any(i in next_line[s:e+1] for i in syms):\n",
    "                    add += int(num)\n",
    "    print(add)             "
   ]
  }
 ],
 "metadata": {
  "kernelspec": {
   "display_name": "Python 3",
   "language": "python",
   "name": "python3"
  },
  "language_info": {
   "codemirror_mode": {
    "name": "ipython",
    "version": 3
   },
   "file_extension": ".py",
   "mimetype": "text/x-python",
   "name": "python",
   "nbconvert_exporter": "python",
   "pygments_lexer": "ipython3",
   "version": "3.11.6"
  }
 },
 "nbformat": 4,
 "nbformat_minor": 2
}

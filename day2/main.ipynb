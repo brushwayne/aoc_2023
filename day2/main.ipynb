{
 "cells": [
  {
   "cell_type": "code",
   "execution_count": 158,
   "metadata": {},
   "outputs": [],
   "source": [
    "# from collections import defaultdict\n",
    "\n",
    "# with open(\"raw.txt\", \"r\") as f:\n",
    "#     data = [ i.strip() for i in f.readlines()]\n",
    "\n",
    "#     s = 0\n",
    "#     limit = { \"red\": 12, \"blue\": 13, \"green\": 14 }\n",
    "\n",
    "\n",
    "#     for item in data:\n",
    "#         x, y = item.split(\": \")\n",
    "#         gameNumber = int(x[5:])\n",
    "        \n",
    "#         plays = y.split(\"; \")\n",
    "        \n",
    "#         lst = []\n",
    "\n",
    "#         d = defaultdict(int)\n",
    "\n",
    "\n",
    "#         for play in plays:\n",
    "#             balls = play.split(\", \")\n",
    "#             for ball in balls:\n",
    "#                 n, color = ball.split(\" \")\n",
    "#                 d[color] = max(int(n), d[color])\n",
    "#                 lst.append(int(n) <= limit[color])\n",
    "#             rounds_list.append(all(lst))\n",
    "#             print(rounds_list)\n",
    "#         games_list.append((game_id, all(rounds_list), math.prod(game_dict.values())))\n",
    "\n",
    "# print(sum(i for i, r, _ in games_list if r))\n",
    "# print(sum(g for _, _, g in games_list))"
   ]
  },
  {
   "cell_type": "code",
   "execution_count": 164,
   "metadata": {},
   "outputs": [
    {
     "name": "stdout",
     "output_type": "stream",
     "text": [
      "2795\n",
      "75561\n"
     ]
    }
   ],
   "source": [
    "from collections import defaultdict\n",
    "import math\n",
    "\n",
    "with open(\"raw.txt\") as f:\n",
    "    lines = [x.strip() for x in f]\n",
    "\n",
    "limit = {\"red\": 12, \"green\": 13, \"blue\": 14}\n",
    "\n",
    "games_list = []\n",
    "for line in lines:\n",
    "    game, content = line.split(\":\")\n",
    "    game_id = int(game[5:])\n",
    "\n",
    "    plays = content.split(\";\")\n",
    "    game_data = defaultdict(int)\n",
    "    rounds_list = []\n",
    "    for round in plays:\n",
    "        drawings = round.split(\",\")\n",
    "        drawings_list = []\n",
    "        for drawing in drawings:\n",
    "            n, color = drawing.strip().split(\" \")\n",
    "            #best\n",
    "            game_data[color] = max(game_data[color], int(n))\n",
    "\n",
    "            drawings_list.append(int(n) <= limit[color])\n",
    "        rounds_list.append(all(drawings_list))\n",
    "    games_list.append((game_id, all(rounds_list), math.prod(game_data.values())))\n",
    "\n",
    "print(sum(i for i, r, _ in games_list if r))\n",
    "print(sum(g for _, _, g in games_list))"
   ]
  }
 ],
 "metadata": {
  "kernelspec": {
   "display_name": "Python 3",
   "language": "python",
   "name": "python3"
  },
  "language_info": {
   "codemirror_mode": {
    "name": "ipython",
    "version": 3
   },
   "file_extension": ".py",
   "mimetype": "text/x-python",
   "name": "python",
   "nbconvert_exporter": "python",
   "pygments_lexer": "ipython3",
   "version": "3.11.6"
  }
 },
 "nbformat": 4,
 "nbformat_minor": 2
}

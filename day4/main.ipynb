{
 "cells": [
  {
   "cell_type": "code",
   "execution_count": 29,
   "metadata": {},
   "outputs": [
    {
     "name": "stdout",
     "output_type": "stream",
     "text": [
      "20667\n"
     ]
    }
   ],
   "source": [
    "with open(\"raw.txt\", \"r\") as f:\n",
    "    cards = [x.strip() for x in f.readlines()]\n",
    "\n",
    "    s = 0\n",
    "\n",
    "    for card in cards:\n",
    "        identity, nums = card.split(\":\")\n",
    "        win, have = nums.strip().split(\" | \")\n",
    "\n",
    "        win = win.split(\" \")\n",
    "        have = have.split(\" \")\n",
    "\n",
    "        win = [x for x in win if x]\n",
    "        have = [x for x in have if x]\n",
    "\n",
    "        counter = 0\n",
    "        for i in have:\n",
    "            if i in win:\n",
    "                counter += 1\n",
    "\n",
    "        s += 2 ** (counter) >> 1\n",
    "\n",
    "    print(s)"
   ]
  },
  {
   "cell_type": "code",
   "execution_count": 30,
   "metadata": {},
   "outputs": [
    {
     "name": "stdout",
     "output_type": "stream",
     "text": [
      "5833065\n"
     ]
    }
   ],
   "source": [
    "from collections import deque\n",
    "\n",
    "with open(\"raw.txt\", \"r\") as f:\n",
    "    cards = [x.strip() for x in f.readlines()]\n",
    "\n",
    "    data = []\n",
    "\n",
    "    for card in cards:\n",
    "        card_number, nums = card.split(\":\")\n",
    "        win, have = nums.strip().split(\" | \")\n",
    "\n",
    "        win = win.split(\" \")\n",
    "        have = have.split(\" \")\n",
    "\n",
    "        win = {int(x.strip()) for x in win if x}\n",
    "        have = {int(x.strip()) for x in have if x}\n",
    "\n",
    "        data.append([win, have])\n",
    "\n",
    "    winning_sets = {i: len(s1 & s2) for i, (s1, s2) in enumerate(data, 1)}\n",
    "    winning_numbers = [1 * 2 ** (s - 1) for s in winning_sets.values() if s > 0]\n",
    "\n",
    "    q = deque(winning_sets.keys())\n",
    "\n",
    "    total_cards = 0\n",
    "\n",
    "    while q:\n",
    "        card = q.popleft()\n",
    "        total_cards += 1\n",
    "        for i in range(1, winning_sets[card] + 1):\n",
    "            q.appendleft(card + i)\n",
    "\n",
    "    print(total_cards)"
   ]
  }
 ],
 "metadata": {
  "kernelspec": {
   "display_name": "Python 3",
   "language": "python",
   "name": "python3"
  },
  "language_info": {
   "codemirror_mode": {
    "name": "ipython",
    "version": 3
   },
   "file_extension": ".py",
   "mimetype": "text/x-python",
   "name": "python",
   "nbconvert_exporter": "python",
   "pygments_lexer": "ipython3",
   "version": "3.11.6"
  }
 },
 "nbformat": 4,
 "nbformat_minor": 2
}

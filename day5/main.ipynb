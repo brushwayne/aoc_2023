{
 "cells": [
  {
   "cell_type": "code",
   "execution_count": 21,
   "metadata": {},
   "outputs": [
    {
     "name": "stdout",
     "output_type": "stream",
     "text": [
      "['seeds: 79 14 55 13', 'seed-to-soil map:\\n50 98 2\\n52 50 48', 'soil-to-fertilizer map:\\n0 15 37\\n37 52 2\\n39 0 15', 'fertilizer-to-water map:\\n49 53 8\\n0 11 42\\n42 0 7\\n57 7 4', 'water-to-light map:\\n88 18 7\\n18 25 70', 'light-to-temperature map:\\n45 77 23\\n81 45 19\\n68 64 13', 'temperature-to-humidity map:\\n0 69 1\\n1 0 69', 'humidity-to-location map:\\n60 56 37\\n56 93 4']\n"
     ]
    }
   ],
   "source": [
    "with open(\"raw.txt\", \"r\") as f:\n",
    "    big_str = \"\"\n",
    "    \n",
    "    for i in f.readlines():\n",
    "        big_str += i\n",
    "\n",
    "    data = big_str.split(\"\\n\\n\")\n",
    "    print(data)"
   ]
  }
 ],
 "metadata": {
  "kernelspec": {
   "display_name": "Python 3",
   "language": "python",
   "name": "python3"
  },
  "language_info": {
   "codemirror_mode": {
    "name": "ipython",
    "version": 3
   },
   "file_extension": ".py",
   "mimetype": "text/x-python",
   "name": "python",
   "nbconvert_exporter": "python",
   "pygments_lexer": "ipython3",
   "version": "3.11.6"
  }
 },
 "nbformat": 4,
 "nbformat_minor": 2
}

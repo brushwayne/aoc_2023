{
 "cells": [
  {
   "cell_type": "code",
   "execution_count": 32,
   "metadata": {},
   "outputs": [
    {
     "name": "stdout",
     "output_type": "stream",
     "text": [
      "288\n"
     ]
    }
   ],
   "source": [
    "with open(\"raw.txt\", \"r\") as f:\n",
    "    times, distances = [x.strip() for x in f.readlines()]\n",
    "    times = [int(x) for x in times.split(\":\")[1].strip().split(\" \") if x != '']\n",
    "    distances = [int(x) for x in distances.split(\":\")[1].strip().split(\" \") if x != '']\n",
    "    d = [(times[i], distances[i]) for i in range(len(times))]\n",
    "    prod = 1\n",
    "    for time, distance in d:\n",
    "        counter = 0\n",
    "        for speed in range(time):\n",
    "            actual_time = time - speed\n",
    "            if actual_time * speed > distance:\n",
    "                counter += 1\n",
    "        prod *= counter\n",
    "    print(prod)\n"
   ]
  },
  {
   "cell_type": "code",
   "execution_count": 41,
   "metadata": {},
   "outputs": [
    {
     "name": "stdout",
     "output_type": "stream",
     "text": [
      "43364472\n"
     ]
    }
   ],
   "source": [
    "with open(\"raw.txt\", \"r\") as f:\n",
    "    times, distances = [x.strip() for x in f.readlines()]\n",
    "    times = [x for x in times.split(\":\")[1].strip().split(\" \") if x != '']\n",
    "    distances = [x for x in distances.split(\":\")[1].strip().split(\" \") if x != '']\n",
    "\n",
    "    time = \"\"\n",
    "    distance = \"\"\n",
    "\n",
    "    for _ in times:\n",
    "        time += _\n",
    "    for _ in distances:\n",
    "        distance += _\n",
    "\n",
    "    time = int(time)\n",
    "    distance = int(distance)\n",
    "\n",
    "\n",
    "    counter = 0\n",
    "    for speed in range(time):\n",
    "        actual_time = time - speed\n",
    "        if actual_time * speed > distance:\n",
    "            counter += 1\n",
    "\n",
    "    print(counter)"
   ]
  }
 ],
 "metadata": {
  "kernelspec": {
   "display_name": "Python 3",
   "language": "python",
   "name": "python3"
  },
  "language_info": {
   "codemirror_mode": {
    "name": "ipython",
    "version": 3
   },
   "file_extension": ".py",
   "mimetype": "text/x-python",
   "name": "python",
   "nbconvert_exporter": "python",
   "pygments_lexer": "ipython3",
   "version": "3.11.6"
  }
 },
 "nbformat": 4,
 "nbformat_minor": 2
}
